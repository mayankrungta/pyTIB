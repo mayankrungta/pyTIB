{
 "cells": [
  {
   "cell_type": "code",
   "execution_count": 1,
   "metadata": {},
   "outputs": [],
   "source": [
    "import os\n",
    "for ac_id in range(1, 30):\n",
    "    #filename = f'/media/mayank/FOOTAGE1/AAP_BBMP_FILEs/34_150_{ac_id}/page-01.txt'\n",
    "    filename = f'/home/mayank/libtech/src/scripts/Test/31_154_{ac_id}.txt'\n",
    "    #print(f'File {filename}')"
   ]
  },
  {
   "cell_type": "code",
   "execution_count": 2,
   "metadata": {},
   "outputs": [
    {
     "name": "stdout",
     "output_type": "stream",
     "text": [
      "re.compile('.*Total Pages \\\\d+ - Page 1', re.DOTALL)\n"
     ]
    }
   ],
   "source": [
    "import re\n",
    "\n",
    "filename = f'/home/mayank/libtech/src/scripts/Test/31_154_1.txt'\n",
    "with open(filename, 'r') as file_handle:\n",
    "    buffer = file_handle.read()\n",
    "\n",
    "#print(buffer)\n",
    "    \n",
    "row = {}\n",
    "p = re.compile('.*Total Pages \\d+ - Page 1', re.DOTALL)\n",
    "\n",
    "print(p)\n",
    "m = p.match(buffer)\n",
    "#print(m)\n",
    "if m:\n",
    "    page1 = m.group()\n",
    "    #print(page1.strip())\n",
    "\n",
    "#p = re.compile('^No. Name and Reservation Status of Assembly Constituency : \\d+ -$', re.MULTILINE)\n",
    "#p = re.compile('No. Name and Reservation Status of Assembly Constituency : \\d+')\n",
    "#print(p)\n",
    "#m = p.match(page1)\n",
    "#print(m)\n",
    "\n",
    "lines = page1.split('\\n')\n",
    "for line in lines:\n",
    "    if 'No. Name and Reservation Status of Assembly Constituency : ' in line:\n",
    "        print(line)\n",
    "        m = p.match(page1)\n",
    "        print(m)"
   ]
  },
  {
   "cell_type": "code",
   "execution_count": 26,
   "metadata": {},
   "outputs": [
    {
     "name": "stdout",
     "output_type": "stream",
     "text": [
      "<re.Match object; span=(46, 129), match='No. Name and Reservation Status of Assembly Const>\n",
      "154 - Rajarajeshwarinagar\n"
     ]
    }
   ],
   "source": [
    "search_pattern = 'No. Name and Reservation Status of Assembly Constituency\\s*: \\d+ -\\n*\\w+'\n",
    "m = re.search(search_pattern, page1)\n",
    "print(m)\n",
    "pattern = m.group()\n",
    "ac_str = re.search('\\d+ -\\n*\\w+', pattern).group().replace('\\n', ' ').replace('  ', ' ')\n",
    "\n",
    "row['Assembly Constituency'] = ac_str\n",
    "print(ac_str)\n"
   ]
  },
  {
   "cell_type": "code",
   "execution_count": 27,
   "metadata": {},
   "outputs": [
    {
     "name": "stdout",
     "output_type": "stream",
     "text": [
      "Part number: 1\n",
      "1\n"
     ]
    }
   ],
   "source": [
    "search_pattern = 'Part number:*\\s*\\d+'\n",
    "m = re.search(search_pattern, page1)\n",
    "print(m.group())\n",
    "pattern = m.group()\n",
    "part_no = re.search('\\d+', pattern).group()\n",
    "\n",
    "row['Part number'] = part_no\n",
    "print(part_no)"
   ]
  },
  {
   "cell_type": "code",
   "execution_count": 28,
   "metadata": {},
   "outputs": [
    {
     "name": "stdout",
     "output_type": "stream",
     "text": [
      "Constituency is located : 23 - Bangalore\n",
      "23 - Bangalore\n"
     ]
    }
   ],
   "source": [
    "search_pattern = 'Constituency is located : \\d+ - \\w+'\n",
    "m = re.search(search_pattern, page1)\n",
    "print(m.group())\n",
    "pattern = m.group()\n",
    "pc = re.search('\\d+ - \\w+', pattern).group()\n",
    "\n",
    "row['Parliamentary Constituency'] = part_no\n",
    "print(pc)"
   ]
  },
  {
   "cell_type": "code",
   "execution_count": null,
   "metadata": {},
   "outputs": [],
   "source": [
    "search_pattern = 'Constituency is located : \\d+ - \\w+'\n",
    "m = re.search(search_pattern, page1)\n",
    "print(m.group())\n",
    "pattern = m.group()\n",
    "pc = re.search('\\d+ - \\w+', pattern).group()\n",
    "\n",
    "row['Parliamentary Constituency'] = part_no\n",
    "print(pc)"
   ]
  },
  {
   "cell_type": "code",
   "execution_count": 29,
   "metadata": {},
   "outputs": [
    {
     "ename": "AttributeError",
     "evalue": "'NoneType' object has no attribute 'group'",
     "output_type": "error",
     "traceback": [
      "\u001b[0;31m---------------------------------------------------------------------------\u001b[0m",
      "\u001b[0;31mAttributeError\u001b[0m                            Traceback (most recent call last)",
      "\u001b[0;32m<ipython-input-29-f42a202fff6f>\u001b[0m in \u001b[0;36m<module>\u001b[0;34m\u001b[0m\n\u001b[1;32m      2\u001b[0m \u001b[0msearch_pattern\u001b[0m \u001b[0;34m=\u001b[0m \u001b[0;34m'Serial No. Serial No. Male Female Third Gender Total\\n\\d+ \\d+ \\d+ \\d+ \\d+ \\d+'\u001b[0m\u001b[0;34m\u001b[0m\u001b[0;34m\u001b[0m\u001b[0m\n\u001b[1;32m      3\u001b[0m \u001b[0mm\u001b[0m \u001b[0;34m=\u001b[0m \u001b[0mre\u001b[0m\u001b[0;34m.\u001b[0m\u001b[0msearch\u001b[0m\u001b[0;34m(\u001b[0m\u001b[0msearch_pattern\u001b[0m\u001b[0;34m,\u001b[0m \u001b[0mpage1\u001b[0m\u001b[0;34m)\u001b[0m\u001b[0;34m\u001b[0m\u001b[0;34m\u001b[0m\u001b[0m\n\u001b[0;32m----> 4\u001b[0;31m \u001b[0mprint\u001b[0m\u001b[0;34m(\u001b[0m\u001b[0mm\u001b[0m\u001b[0;34m.\u001b[0m\u001b[0mgroup\u001b[0m\u001b[0;34m(\u001b[0m\u001b[0;34m)\u001b[0m\u001b[0;34m)\u001b[0m\u001b[0;34m\u001b[0m\u001b[0;34m\u001b[0m\u001b[0m\n\u001b[0m\u001b[1;32m      5\u001b[0m \u001b[0mpattern\u001b[0m \u001b[0;34m=\u001b[0m \u001b[0mm\u001b[0m\u001b[0;34m.\u001b[0m\u001b[0mgroup\u001b[0m\u001b[0;34m(\u001b[0m\u001b[0;34m)\u001b[0m\u001b[0;34m\u001b[0m\u001b[0;34m\u001b[0m\u001b[0m\n\u001b[1;32m      6\u001b[0m \u001b[0mpc\u001b[0m \u001b[0;34m=\u001b[0m \u001b[0mre\u001b[0m\u001b[0;34m.\u001b[0m\u001b[0msearch\u001b[0m\u001b[0;34m(\u001b[0m\u001b[0;34m'\\d+ \\d+ \\d+ \\d+ \\d+ \\d+'\u001b[0m\u001b[0;34m,\u001b[0m \u001b[0mpattern\u001b[0m\u001b[0;34m)\u001b[0m\u001b[0;34m.\u001b[0m\u001b[0mgroup\u001b[0m\u001b[0;34m(\u001b[0m\u001b[0;34m)\u001b[0m\u001b[0;34m\u001b[0m\u001b[0;34m\u001b[0m\u001b[0m\n",
      "\u001b[0;31mAttributeError\u001b[0m: 'NoneType' object has no attribute 'group'"
     ]
    }
   ],
   "source": [
    "'Serial No. Serial No. Male Female Third Gender Total\\n1 786 398 388 0 786'\n",
    "search_pattern = 'Serial No. Serial No. Male Female Third Gender Total\\n\\d+ \\d+ \\d+ \\d+ \\d+ \\d+'\n",
    "m = re.search(search_pattern, page1)\n",
    "print(m.group())\n",
    "pattern = m.group()\n",
    "stats = re.search('\\d+ \\d+ \\d+ \\d+ \\d+ \\d+', pattern).group().split(' ')\n",
    "\n",
    "row['Male'] = part_no\n",
    "print(pc)"
   ]
  },
  {
   "cell_type": "code",
   "execution_count": null,
   "metadata": {},
   "outputs": [],
   "source": []
  }
 ],
 "metadata": {
  "kernelspec": {
   "display_name": "base",
   "language": "python",
   "name": "base"
  },
  "language_info": {
   "codemirror_mode": {
    "name": "ipython",
    "version": 3
   },
   "file_extension": ".py",
   "mimetype": "text/x-python",
   "name": "python",
   "nbconvert_exporter": "python",
   "pygments_lexer": "ipython3",
   "version": "3.7.6"
  }
 },
 "nbformat": 4,
 "nbformat_minor": 2
}
