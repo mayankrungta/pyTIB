{
 "cells": [
  {
   "cell_type": "code",
   "execution_count": 5,
   "metadata": {
    "autoscroll": false,
    "collapsed": false,
    "ein.hycell": false,
    "ein.tags": "worksheet-0",
    "slideshow": {
     "slide_type": "-"
    }
   },
   "outputs": [],
   "source": [
    "#!pip install pydrive\n",
    "from pydrive.auth import GoogleAuth\n",
    "from pydrive.drive import GoogleDrive\n",
    "\n",
    "gauth = GoogleAuth()\n"
   ]
  },
  {
   "cell_type": "code",
   "execution_count": 9,
   "metadata": {
    "autoscroll": false,
    "collapsed": false,
    "ein.hycell": false,
    "ein.tags": "worksheet-0",
    "slideshow": {
     "slide_type": "-"
    }
   },
   "outputs": [],
   "source": [
    "gauth.LocalWebserverAuth()\n",
    "drive = GoogleDrive(gauth)\n"
   ]
  },
  {
   "cell_type": "code",
   "execution_count": 10,
   "metadata": {
    "autoscroll": false,
    "collapsed": false,
    "ein.hycell": false,
    "ein.tags": "worksheet-0",
    "slideshow": {
     "slide_type": "-"
    }
   },
   "outputs": [],
   "source": [
    "file1 = drive.CreateFile({'title': 'Hello.txt'})\n",
    "file1.SetContentString('Hello')\n",
    "file1.Upload() # Files.insert()\n",
    "\n",
    "file1['title'] = 'HelloWorld.txt'  # Change title of the file\n",
    "file1.Upload() # Files.patch()"
   ]
  },
  {
   "cell_type": "code",
   "execution_count": null,
   "metadata": {
    "autoscroll": false,
    "collapsed": false,
    "ein.hycell": false,
    "ein.tags": "worksheet-0",
    "slideshow": {
     "slide_type": "-"
    }
   },
   "outputs": [],
   "source": []
  },
  {
   "cell_type": "code",
   "execution_count": 15,
   "metadata": {
    "autoscroll": false,
    "collapsed": false,
    "ein.hycell": false,
    "ein.tags": "worksheet-0",
    "slideshow": {
     "slide_type": "-"
    }
   },
   "outputs": [
    {
     "name": "stdout",
     "output_type": "stream",
     "text": [
      "Created file BBMP 2020 - Campaign Related/PDF Voter Lists - English/31_154_5.pdf with mimeType application/pdf\n"
     ]
    }
   ],
   "source": [
    "file2 = drive.CreateFile()\n",
    "file2.SetContentFile('BBMP 2020 - Campaign Related/PDF Voter Lists - English/31_154_5.pdf')\n",
    "file2.Upload()\n",
    "print('Created file %s with mimeType %s' % (file2['title'],\n",
    "                                            file2['mimeType']))"
   ]
  },
  {
   "cell_type": "code",
   "execution_count": 12,
   "metadata": {
    "autoscroll": false,
    "collapsed": false,
    "ein.hycell": false,
    "ein.tags": "worksheet-0",
    "slideshow": {
     "slide_type": "-"
    }
   },
   "outputs": [
    {
     "name": "stdout",
     "output_type": "stream",
     "text": [
      "Downloading file /home/mayank/libtech/src/scripts/Test/31_154_5.pdf from Google Drive\n"
     ]
    }
   ],
   "source": [
    "file3 = drive.CreateFile({'id': file2['id']})\n",
    "print('Downloading file %s from Google Drive' % file3['title']) # 'hello.png'\n",
    "file3.GetContentFile('/tmp/31_154_5.pdf')  # Save Drive file as a local file\n"
   ]
  },
  {
   "cell_type": "code",
   "execution_count": 14,
   "metadata": {
    "autoscroll": false,
    "collapsed": false,
    "ein.hycell": false,
    "ein.tags": "worksheet-0",
    "slideshow": {
     "slide_type": "-"
    }
   },
   "outputs": [],
   "source": [
    "# or download Google Docs files in an export format provided.\n",
    "# downloading a docs document as an html file:\n",
    "file3.GetContentFile('/tmp/31_154_5.html', mimetype='text/html')\n"
   ]
  },
  {
   "cell_type": "code",
   "execution_count": 17,
   "metadata": {
    "autoscroll": false,
    "collapsed": false,
    "ein.hycell": false,
    "ein.tags": "worksheet-0",
    "slideshow": {
     "slide_type": "-"
    }
   },
   "outputs": [
    {
     "name": "stdout",
     "output_type": "stream",
     "text": [
      "title: Test, id: 1cfwBpYSFcMTSa4wNRhaU9oY5ePUjF9dg\n"
     ]
    }
   ],
   "source": [
    "# Create folder.\n",
    "folder_metadata = {\n",
    "    'title' : 'Test',\n",
    "    # The mimetype defines this new file as a folder, so don't change this.\n",
    "    'mimeType' : 'application/vnd.google-apps.folder'\n",
    "}\n",
    "folder = drive.CreateFile(folder_metadata)\n",
    "folder.Upload()\n",
    "\n",
    "# Get folder info and print to screen.\n",
    "folder_title = folder['title']\n",
    "folder_id = folder['id']\n",
    "print('title: %s, id: %s' % (folder_title, folder_id))\n"
   ]
  },
  {
   "cell_type": "code",
   "execution_count": 18,
   "metadata": {
    "autoscroll": false,
    "collapsed": false,
    "ein.hycell": false,
    "ein.tags": "worksheet-0",
    "slideshow": {
     "slide_type": "-"
    }
   },
   "outputs": [],
   "source": [
    "# Upload file to folder.\n",
    "f = drive.CreateFile({\"parents\": [{\"kind\": \"drive#fileLink\", \"id\": folder_id}]})\n",
    "\n",
    "# Make sure to add the path to the file to upload below.\n",
    "f.SetContentFile('/tmp/z.txt')\n",
    "f.Upload()\n"
   ]
  },
  {
   "cell_type": "code",
   "execution_count": 21,
   "metadata": {
    "autoscroll": false,
    "collapsed": false,
    "ein.hycell": false,
    "ein.tags": "worksheet-0",
    "slideshow": {
     "slide_type": "-"
    }
   },
   "outputs": [
    {
     "name": "stdout",
     "output_type": "stream",
     "text": [
      "title: SubFolder, id: 1zbcp9PxJbAe7WtoqK4PaU_5ICQyicSna\n",
      "GoogleDriveFile({'title': 'SubFolder', 'mimeType': 'application/vnd.google-apps.folder', 'parents': [{'kind': 'drive#parentReference', 'id': '1cfwBpYSFcMTSa4wNRhaU9oY5ePUjF9dg', 'selfLink': 'https://www.googleapis.com/drive/v2/files/1zbcp9PxJbAe7WtoqK4PaU_5ICQyicSna/parents/1cfwBpYSFcMTSa4wNRhaU9oY5ePUjF9dg', 'parentLink': 'https://www.googleapis.com/drive/v2/files/1cfwBpYSFcMTSa4wNRhaU9oY5ePUjF9dg', 'isRoot': False}], 'kind': 'drive#file', 'id': '1zbcp9PxJbAe7WtoqK4PaU_5ICQyicSna', 'etag': '\"MTU5MTg5NjUzNTMyNg\"', 'selfLink': 'https://www.googleapis.com/drive/v2/files/1zbcp9PxJbAe7WtoqK4PaU_5ICQyicSna', 'alternateLink': 'https://drive.google.com/drive/folders/1zbcp9PxJbAe7WtoqK4PaU_5ICQyicSna', 'embedLink': 'https://drive.google.com/embeddedfolderview?id=1zbcp9PxJbAe7WtoqK4PaU_5ICQyicSna', 'iconLink': 'https://drive-thirdparty.googleusercontent.com/16/type/application/vnd.google-apps.folder+48', 'labels': {'starred': False, 'hidden': False, 'trashed': False, 'restricted': False, 'viewed': True}, 'copyRequiresWriterPermission': False, 'createdDate': '2020-06-11T17:28:55.326Z', 'modifiedDate': '2020-06-11T17:28:55.326Z', 'modifiedByMeDate': '2020-06-11T17:28:55.326Z', 'lastViewedByMeDate': '2020-06-11T17:28:55.326Z', 'markedViewedByMeDate': '1970-01-01T00:00:00.000Z', 'version': '1', 'userPermission': {'kind': 'drive#permission', 'etag': '\"RJPJxEldqmPG0poXNen0F2_gaFw\"', 'id': 'me', 'selfLink': 'https://www.googleapis.com/drive/v2/files/1zbcp9PxJbAe7WtoqK4PaU_5ICQyicSna/permissions/me', 'role': 'owner', 'type': 'user'}, 'quotaBytesUsed': '0', 'ownerNames': ['AAP Karnataka Technology Cell'], 'owners': [{'kind': 'drive#user', 'displayName': 'AAP Karnataka Technology Cell', 'isAuthenticatedUser': True, 'permissionId': '06258608771720382915', 'emailAddress': 'aapkatechcell@gmail.com'}], 'lastModifyingUserName': 'AAP Karnataka Technology Cell', 'lastModifyingUser': {'kind': 'drive#user', 'displayName': 'AAP Karnataka Technology Cell', 'isAuthenticatedUser': True, 'permissionId': '06258608771720382915', 'emailAddress': 'aapkatechcell@gmail.com'}, 'capabilities': {'canCopy': False, 'canEdit': True}, 'editable': True, 'copyable': False, 'writersCanShare': True, 'shared': False, 'explicitlyTrashed': False, 'appDataContents': False, 'spaces': ['drive']})\n"
     ]
    }
   ],
   "source": [
    "# Upload file to folder.\n",
    "#f = drive.CreateFile({\"parents\": [{\"kind\": \"drive#fileLink\", \"id\": folder_id}]})\n",
    "# Create folder.\n",
    "folder_metadata = {\n",
    "    'title' : 'SubFolder',\n",
    "    # The mimetype defines this new file as a folder, so don't change this.\n",
    "    'mimeType' : 'application/vnd.google-apps.folder',\n",
    "    \"parents\": [{\"kind\": \"drive#fileLink\", \"id\": folder_id}]\n",
    "}\n",
    "folder = drive.CreateFile(folder_metadata)\n",
    "folder.Upload()\n",
    "\n",
    "# Get folder info and print to screen.\n",
    "folder_title = folder['title']\n",
    "folder_id = folder['id']\n",
    "print('title: %s, id: %s' % (folder_title, folder_id))\n",
    "print(folder)"
   ]
  },
  {
   "cell_type": "code",
   "execution_count": 24,
   "metadata": {
    "autoscroll": false,
    "collapsed": false,
    "ein.hycell": false,
    "ein.tags": "worksheet-0",
    "slideshow": {
     "slide_type": "-"
    }
   },
   "outputs": [],
   "source": [
    "# Upload file to folder.\n",
    "folder_id = '1wu8tHZOuvvio8ZG_dDq4F7-CGIeY-YqD'\n",
    "f = drive.CreateFile({'parents': [{'id': folder_id}]})\n",
    "\n",
    "# Make sure to add the path to the file to upload below.\n",
    "f.SetContentFile('31_154_5.pdf')\n",
    "f.Upload()\n"
   ]
  }
 ],
 "metadata": {
  "kernelspec": {
   "argv": [
    "python",
    "-m",
    "ipykernel_launcher",
    "-f",
    "{connection_file}"
   ],
   "display_name": "Python 3",
   "env": null,
   "interrupt_mode": "signal",
   "language": "python",
   "metadata": null,
   "name": "python3"
  },
  "language_info": {
   "codemirror_mode": {
    "name": "ipython",
    "version": 3
   },
   "file_extension": ".py",
   "mimetype": "text/x-python",
   "name": "python",
   "nbconvert_exporter": "python",
   "pygments_lexer": "ipython3",
   "version": "3.8.2"
  },
  "name": "Untitled.ipynb"
 },
 "nbformat": 4,
 "nbformat_minor": 2
}
