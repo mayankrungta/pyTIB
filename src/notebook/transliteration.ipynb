{
 "cells": [
  {
   "cell_type": "code",
   "execution_count": 5,
   "metadata": {},
   "outputs": [],
   "source": [
    "import requests\n",
    "import os, uuid, json"
   ]
  },
  {
   "cell_type": "code",
   "execution_count": 16,
   "metadata": {},
   "outputs": [],
   "source": [
    "ms_translator_key = 'ba8f2c929cf14ee98527a28c1a95afc6'\n",
    "url = 'https://api.cognitive.microsofttranslator.com/'\n",
    "path = '/transliterate?api-version=3.0'\n",
    "params = '&language=hi&fromScript=Deva&toScript=Latn'\n",
    "constructed_url = url + path + params"
   ]
  },
  {
   "cell_type": "code",
   "execution_count": 7,
   "metadata": {},
   "outputs": [],
   "source": [
    "headers = {\n",
    "    'Ocp-Apim-Subscription-Key': ms_translator_key,\n",
    "    'Content-type': 'application/json',\n",
    "    'X-ClientTraceId': str(uuid.uuid4())\n",
    "}"
   ]
  },
  {
   "cell_type": "code",
   "execution_count": 8,
   "metadata": {},
   "outputs": [],
   "source": [
    "url = 'https://api.cognitive.microsofttranslator.com/'"
   ]
  },
  {
   "cell_type": "code",
   "execution_count": 13,
   "metadata": {},
   "outputs": [
    {
     "name": "stdout",
     "output_type": "stream",
     "text": [
      "{'name': 'Hindi', 'nativeName': 'हिंदी', 'scripts': [{'code': 'Deva', 'name': 'Devanagari', 'nativeName': 'देवनागरी', 'dir': 'ltr', 'toScripts': [{'code': 'Latn', 'name': 'Latin', 'nativeName': 'लैटिन', 'dir': 'ltr'}]}, {'code': 'Latn', 'name': 'Latin', 'nativeName': 'लैटिन', 'dir': 'ltr', 'toScripts': [{'code': 'Deva', 'name': 'Devanagari', 'nativeName': 'देवनागरी', 'dir': 'ltr'}]}]}\n"
     ]
    }
   ],
   "source": [
    "url = \"https://api.cognitive.microsofttranslator.com/languages?api-version=3.0&scope=transliteration\"\n",
    "res=requests.get(url)\n",
    "trans_dict=res.json()['transliteration']\n",
    "hindi_dict=trans_dict['hi']\n",
    "print(hindi_dict)"
   ]
  },
  {
   "cell_type": "code",
   "execution_count": 19,
   "metadata": {},
   "outputs": [],
   "source": [
    "s='अतीतमण्ड'\n",
    "s='जवाजा'"
   ]
  },
  {
   "cell_type": "code",
   "execution_count": 20,
   "metadata": {},
   "outputs": [],
   "source": [
    "def get_transliteration(word):\n",
    "    body = [{\n",
    "        'text': word\n",
    "    }]\n",
    "\n",
    "    request = requests.post(constructed_url, headers=headers, json=body)\n",
    "    response = request.json()\n",
    "    trans = response[0]['text']\n",
    "    return trans"
   ]
  },
  {
   "cell_type": "code",
   "execution_count": 21,
   "metadata": {},
   "outputs": [
    {
     "name": "stdout",
     "output_type": "stream",
     "text": [
      "javaja\n"
     ]
    }
   ],
   "source": [
    "s_eng = get_transliteration(s)\n",
    "print(s_eng)"
   ]
  },
  {
   "cell_type": "code",
   "execution_count": null,
   "metadata": {},
   "outputs": [],
   "source": []
  }
 ],
 "metadata": {
  "kernelspec": {
   "display_name": "Python 3",
   "language": "python",
   "name": "python3"
  },
  "language_info": {
   "codemirror_mode": {
    "name": "ipython",
    "version": 3
   },
   "file_extension": ".py",
   "mimetype": "text/x-python",
   "name": "python",
   "nbconvert_exporter": "python",
   "pygments_lexer": "ipython3",
   "version": "3.6.9"
  }
 },
 "nbformat": 4,
 "nbformat_minor": 2
}
