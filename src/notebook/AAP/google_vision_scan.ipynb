{
 "cells": [
  {
   "cell_type": "code",
   "execution_count": null,
   "metadata": {
    "autoscroll": false,
    "collapsed": false,
    "ein.hycell": false,
    "ein.tags": "worksheet-0",
    "slideshow": {
     "slide_type": "-"
    }
   },
   "outputs": [],
   "source": []
  },
  {
   "cell_type": "code",
   "execution_count": null,
   "metadata": {
    "autoscroll": false,
    "collapsed": false,
    "ein.hycell": false,
    "ein.tags": "worksheet-0",
    "slideshow": {
     "slide_type": "-"
    }
   },
   "outputs": [],
   "source": []
  },
  {
   "cell_type": "code",
   "execution_count": null,
   "metadata": {
    "autoscroll": false,
    "collapsed": false,
    "ein.hycell": false,
    "ein.tags": "worksheet-0",
    "slideshow": {
     "slide_type": "-"
    }
   },
   "outputs": [],
   "source": []
  },
  {
   "cell_type": "code",
   "execution_count": null,
   "metadata": {
    "autoscroll": false,
    "collapsed": false,
    "ein.hycell": false,
    "ein.tags": "worksheet-0",
    "slideshow": {
     "slide_type": "-"
    }
   },
   "outputs": [],
   "source": []
  },
  {
   "cell_type": "code",
   "execution_count": null,
   "metadata": {
    "autoscroll": false,
    "collapsed": false,
    "ein.hycell": false,
    "ein.tags": "worksheet-0",
    "slideshow": {
     "slide_type": "-"
    }
   },
   "outputs": [],
   "source": []
  },
  {
   "cell_type": "code",
   "execution_count": null,
   "metadata": {
    "autoscroll": false,
    "collapsed": false,
    "ein.hycell": false,
    "ein.tags": "worksheet-0",
    "slideshow": {
     "slide_type": "-"
    }
   },
   "outputs": [],
   "source": []
  },
  {
   "cell_type": "code",
   "execution_count": null,
   "metadata": {
    "autoscroll": false,
    "collapsed": false,
    "ein.hycell": false,
    "ein.tags": "worksheet-0",
    "slideshow": {
     "slide_type": "-"
    }
   },
   "outputs": [],
   "source": []
  },
  {
   "cell_type": "code",
   "execution_count": null,
   "metadata": {
    "autoscroll": false,
    "collapsed": false,
    "ein.hycell": false,
    "ein.tags": "worksheet-0",
    "slideshow": {
     "slide_type": "-"
    }
   },
   "outputs": [],
   "source": []
  },
  {
   "cell_type": "code",
   "execution_count": 5,
   "metadata": {
    "autoscroll": false,
    "collapsed": false,
    "ein.hycell": false,
    "ein.tags": "worksheet-0",
    "slideshow": {
     "slide_type": "-"
    }
   },
   "outputs": [
    {
     "name": "stdout",
     "output_type": "stream",
     "text": [
      "Requirement already up-to-date: python-google-places in /home/mayank/VirtualEnvs/venv/lib/python3.7/site-packages (1.4.1)\r\n",
      "Requirement already satisfied, skipping upgrade: six in /home/mayank/VirtualEnvs/venv/lib/python3.7/site-packages (from python-google-places) (1.13.0)\r\n"
     ]
    },
    {
     "ename": "ModuleNotFoundError",
     "evalue": "No module named 'googleplaces'",
     "output_type": "error",
     "traceback": [
      "\u001b[0;31m---------------------------------------------------------------------------\u001b[0m",
      "\u001b[0;31mModuleNotFoundError\u001b[0m                       Traceback (most recent call last)",
      "\u001b[0;32m<ipython-input-5-7242db3ad01f>\u001b[0m in \u001b[0;36m<module>\u001b[0;34m()\u001b[0m\n\u001b[1;32m      8\u001b[0m \u001b[0;34m\u001b[0m\u001b[0m\n\u001b[1;32m      9\u001b[0m \u001b[0mget_ipython\u001b[0m\u001b[0;34m(\u001b[0m\u001b[0;34m)\u001b[0m\u001b[0;34m.\u001b[0m\u001b[0msystem\u001b[0m\u001b[0;34m(\u001b[0m\u001b[0;34m'pip install --upgrade python-google-places'\u001b[0m\u001b[0;34m)\u001b[0m\u001b[0;34m\u001b[0m\u001b[0;34m\u001b[0m\u001b[0m\n\u001b[0;32m---> 10\u001b[0;31m \u001b[0;32mfrom\u001b[0m \u001b[0mgoogleplaces\u001b[0m \u001b[0;32mimport\u001b[0m \u001b[0mGooglePlaces\u001b[0m\u001b[0;34m,\u001b[0m \u001b[0mtypes\u001b[0m\u001b[0;34m,\u001b[0m \u001b[0mlang\u001b[0m\u001b[0;34m\u001b[0m\u001b[0;34m\u001b[0m\u001b[0m\n\u001b[0m\u001b[1;32m     11\u001b[0m \u001b[0;32mimport\u001b[0m \u001b[0mrequests\u001b[0m\u001b[0;34m\u001b[0m\u001b[0;34m\u001b[0m\u001b[0m\n\u001b[1;32m     12\u001b[0m \u001b[0;32mimport\u001b[0m \u001b[0mjson\u001b[0m\u001b[0;34m\u001b[0m\u001b[0;34m\u001b[0m\u001b[0m\n",
      "\u001b[0;31mModuleNotFoundError\u001b[0m: No module named 'googleplaces'"
     ]
    }
   ],
   "source": [
    "#!pip install --upgrade google-cloud-vision google-cloud-storage\n",
    "\n",
    "import os, io\n",
    "import re\n",
    "from google.cloud import vision\n",
    "from google.cloud import storage\n",
    "from google.protobuf import json_format\n",
    "\n",
    "!pip install --upgrade python-google-places\n",
    "from googleplaces import GooglePlaces, types, lang\n",
    "import requests\n",
    "import json"
   ]
  },
  {
   "cell_type": "code",
   "execution_count": 5,
   "metadata": {
    "autoscroll": false,
    "collapsed": false,
    "ein.hycell": false,
    "ein.tags": "worksheet-0",
    "slideshow": {
     "slide_type": "-"
    }
   },
   "outputs": [
    {
     "name": "stdout",
     "output_type": "stream",
     "text": [
      "<module 'google.cloud.storage' from '/home/mayank/anaconda3/lib/python3.7/site-packages/google/cloud/storage/__init__.py'>\n",
      "<google.cloud.storage.client.Client object at 0x7fc6c9717fd0>\n"
     ]
    },
    {
     "name": "stdout",
     "output_type": "stream",
     "text": [
      "<Bucket: draft-rolls>\n",
      "<Blob: draft-rolls, z.txt, None>\n"
     ]
    },
    {
     "name": "stdout",
     "output_type": "stream",
     "text": [
      "None\n"
     ]
    }
   ],
   "source": [
    "os.environ['GOOGLE_APPLICATION_CREDENTIALS'] = r'/home/mayank/libtech/src/scripts/aap-bbmp-creds.json'\n",
    "\n",
    "project = 'AAP-BBMP'\n",
    "bucket_name = 'draft-rolls'\n",
    "file_name = 'z.txt'\n",
    "\n",
    "print(storage)\n",
    "storage_client = storage.Client()\n",
    "print(storage_client)\n",
    "bucket = storage_client.get_bucket(bucket_name)\n",
    "print(bucket)\n",
    "blob = bucket.blob(file_name)\n",
    "print(blob)\n",
    "print(blob.upload_from_filename(file_name))"
   ]
  },
  {
   "cell_type": "code",
   "execution_count": null,
   "metadata": {
    "autoscroll": false,
    "collapsed": false,
    "ein.hycell": false,
    "ein.tags": "worksheet-0",
    "slideshow": {
     "slide_type": "-"
    }
   },
   "outputs": [],
   "source": [
    "# coding: utf-8\n",
    "\n",
    "os.environ['GOOGLE_APPLICATION_CREDENTIALS'] = r'/home/mayank/libtech/src/scripts/aap-bbmp-creds.json'\n",
    "client = vision.ImageAnnotatorClient()\n",
    "\n",
    "batch_size = 100\n",
    "mime_type = 'application/pdf'\n",
    "feature = vision.types.Feature(\n",
    "    type=vision.enums.Feature.Type.DOCUMENT_TEXT_DETECTION)\n",
    "\n",
    "gcs_source_uri = 'gs://draft-rolls/bbmp-wards-2020.pdf'\n",
    "gcs_source = vision.types.GcsSource(uri=gcs_source_uri)\n",
    "input_config = vision.types.InputConfig(gcs_source=gcs_source, mime_type=mime_type)\n",
    "\n",
    "gcs_destination_uri = 'gs://draft-rolls/bbmp-wards-2020.pdf_'\n",
    "gcs_destination = vision.types.GcsDestination(uri=gcs_destination_uri)\n",
    "output_config = vision.types.OutputConfig(gcs_destination=gcs_destination, batch_size=batch_size)\n",
    "\n",
    "async_request = vision.types.AsyncAnnotateFileRequest(\n",
    "    features=[feature], input_config=input_config, output_config=output_config)\n",
    "\n",
    "operation = client.async_batch_annotate_files(requests=[async_request])\n",
    "operation.result(timeout=180)\n",
    "\n",
    "storage_client = storage.Client()\n",
    "match = re.match(r'gs://([^/]+)/(.+)', gcs_destination_uri)\n",
    "bucket_name = match.group(1)\n",
    "prefix = match.group(2)\n",
    "bucket = storage_client.get_bucket(bucket_name)\n",
    "\n",
    "# List object with the given prefix\n",
    "blob_list = list(bucket.list_blobs(prefix=prefix))\n",
    "print('Output files:')\n",
    "for blob in blob_list:\n",
    "    print(blob.name)\n",
    "\n",
    "output = blob_list[0]\n",
    "print(type(output))\n",
    "print(output)\n",
    "json_string = output.download_as_string()\n",
    "response = json_format.Parse(\n",
    "            json_string, vision.types.AnnotateFileResponse())\n",
    "\n",
    "first_page_response = response.responses[3]\n",
    "annotation = first_page_response.full_text_annotation\n",
    "\n",
    "print(u'Full text:')\n",
    "print(annotation.text)\n"
   ]
  },
  {
   "cell_type": "code",
   "execution_count": null,
   "metadata": {
    "autoscroll": false,
    "collapsed": false,
    "ein.hycell": false,
    "ein.tags": "worksheet-0",
    "slideshow": {
     "slide_type": "-"
    }
   },
   "outputs": [],
   "source": [
    "os.environ['GOOGLE_APPLICATION_CREDENTIALS'] = r'image_to_text_googleVision.json'\n",
    "client = vision.ImageAnnotatorClient()\n"
   ]
  },
  {
   "cell_type": "code",
   "execution_count": null,
   "metadata": {
    "autoscroll": false,
    "collapsed": false,
    "ein.hycell": false,
    "ein.tags": "worksheet-0",
    "slideshow": {
     "slide_type": "-"
    }
   },
   "outputs": [],
   "source": [
    "batch_size = 40\n",
    "mime_type = 'application/pdf'\n",
    "feature = vision.types.Feature(\n",
    "    type=vision.enums.Feature.Type.DOCUMENT_TEXT_DETECTION)"
   ]
  },
  {
   "cell_type": "code",
   "execution_count": null,
   "metadata": {
    "autoscroll": false,
    "collapsed": false,
    "ein.hycell": false,
    "ein.tags": "worksheet-0",
    "slideshow": {
     "slide_type": "-"
    }
   },
   "outputs": [],
   "source": [
    "gcs_source_uri = 'gs://scanned_pdfs/Mynk.pdf'\n",
    "gcs_source = vision.types.GcsSource(uri=gcs_source_uri)\n",
    "input_config = vision.types.InputConfig(gcs_source=gcs_source, mime_type=mime_type)"
   ]
  },
  {
   "cell_type": "code",
   "execution_count": null,
   "metadata": {
    "autoscroll": false,
    "collapsed": false,
    "ein.hycell": false,
    "ein.tags": "worksheet-0",
    "slideshow": {
     "slide_type": "-"
    }
   },
   "outputs": [],
   "source": [
    "gcs_destination_uri = 'gs://scanned_pdfs/pdf_result'\n",
    "gcs_destination = vision.types.GcsDestination(uri=gcs_destination_uri)\n",
    "output_config = vision.types.OutputConfig(gcs_destination=gcs_destination, batch_size=batch_size)"
   ]
  },
  {
   "cell_type": "code",
   "execution_count": null,
   "metadata": {
    "autoscroll": false,
    "collapsed": false,
    "ein.hycell": false,
    "ein.tags": "worksheet-0",
    "slideshow": {
     "slide_type": "-"
    }
   },
   "outputs": [],
   "source": [
    "async_request = vision.types.AsyncAnnotateFileRequest(\n",
    "    features=[feature], input_config=input_config, output_config=output_config)"
   ]
  },
  {
   "cell_type": "code",
   "execution_count": null,
   "metadata": {
    "autoscroll": false,
    "collapsed": false,
    "ein.hycell": false,
    "ein.tags": "worksheet-0",
    "slideshow": {
     "slide_type": "-"
    }
   },
   "outputs": [],
   "source": [
    "operation = client.async_batch_annotate_files(requests=[async_request])\n",
    "operation.result(timeout=180)\n",
    "\n",
    "storage_client = storage.Client()\n",
    "match = re.match(r'gs://([^/]+)/(.+)', gcs_destination_uri)\n",
    "bucket_name = match.group(1)\n",
    "prefix = match.group(2)\n",
    "bucket = storage_client.get_bucket(bucket_name)"
   ]
  },
  {
   "cell_type": "code",
   "execution_count": null,
   "metadata": {
    "autoscroll": false,
    "collapsed": false,
    "ein.hycell": false,
    "ein.tags": "worksheet-0",
    "slideshow": {
     "slide_type": "-"
    }
   },
   "outputs": [],
   "source": [
    "# List object with the given prefix\n",
    "blob_list = list(bucket.list_blobs(prefix=prefix))\n",
    "print('Output files:')\n",
    "for blob in blob_list:\n",
    "    print(blob.name)\n",
    "\n",
    "output = blob_list[0]\n",
    "json_string = output.download_as_string()\n",
    "response = json_format.Parse(\n",
    "            json_string, vision.types.AnnotateFileResponse())\n",
    "\n",
    "first_page_response = response.responses[3]\n",
    "annotation = first_page_response.full_text_annotation\n",
    "\n",
    "print(u'Full text:')\n",
    "print(annotation.text)"
   ]
  }
 ],
 "metadata": {
  "kernelspec": {
   "argv": [
    "python",
    "-m",
    "ipykernel_launcher",
    "-f",
    "{connection_file}"
   ],
   "display_name": "Python 3",
   "env": null,
   "interrupt_mode": "signal",
   "language": "python",
   "metadata": null,
   "name": "python3"
  },
  "language_info": {
   "codemirror_mode": {
    "name": "ipython",
    "version": 3
   },
   "file_extension": ".py",
   "mimetype": "text/x-python",
   "name": "python",
   "nbconvert_exporter": "python",
   "pygments_lexer": "ipython3",
   "version": "3.7.6"
  },
  "name": "aap_ocr.ipynb"
 },
 "nbformat": 4,
 "nbformat_minor": 2
}
