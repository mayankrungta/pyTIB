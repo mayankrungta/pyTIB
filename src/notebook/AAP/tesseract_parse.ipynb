{
 "cells": [
  {
   "cell_type": "code",
   "execution_count": 20,
   "metadata": {},
   "outputs": [],
   "source": [
    "import os\n",
    "for ac_id in range(1, 30):\n",
    "    #print(ac)\n",
    "    #/media/mayank/FOOTAGE1/AAP_BBMP_FILEs/34_150_1/page-01.txt\n",
    "    filename = f'/media/mayank/FOOTAGE1/AAP_BBMP_FILEs/34_150_{ac_id}/page-01.txt'\n",
    "    pdf_file = filename.strip('/media/mayank/FOOTAGE1/AAP_BBMP_FILEs/').replace('/','_')\n",
    "    destination = f'/tmp/text_files/{pdf_file}'\n",
    "    cmd = f'cp {filename} {destination}'\n",
    "    #print(f'Executing {cmd}')\n",
    "    #os.system(cmd)"
   ]
  },
  {
   "cell_type": "code",
   "execution_count": 209,
   "metadata": {},
   "outputs": [
    {
     "name": "stdout",
     "output_type": "stream",
     "text": [
      "re.compile('.*Total Pages \\\\d+ - Page 1', re.DOTALL)\n",
      "<re.Match object; span=(0, 1467), match='ELECTORAL ROLL 2020 S10 Karnataka\\n\\n \\n\\nNo. Nam>\n",
      "No. Name and Reservation Status of Assembly Constituency : 154 -\n",
      "<re.Match object; span=(0, 1467), match='ELECTORAL ROLL 2020 S10 Karnataka\\n\\n \\n\\nNo. Nam>\n"
     ]
    }
   ],
   "source": [
    "import re\n",
    "\n",
    "#filename = '/media/mayank/FOOTAGE1/AAP_BBMP_FILEs/32_151_115/page-01.txt'\n",
    "filename = '/media/mayank/FOOTAGE1/AAP_BBMP_FILEs/31_154_3/page-01.txt'\n",
    "#filename = '/media/mayank/FOOTAGE1/AAP_BBMP_FILEs/31_154_15/page-01.txt'\n",
    "#filename = '/media/mayank/FOOTAGE1/AAP_BBMP_FILEs/31_154_43/page-01.txt'\n",
    "#filename = '/media/mayank/FOOTAGE1/AAP_BBMP_FILEs/31_154_103/page-01.txt'\n",
    "filename = '/media/mayank/FOOTAGE1/AAP_BBMP_FILEs/31_154_4/page-01.txt'\n",
    "filename = '/media/mayank/FOOTAGE1/AAP_BBMP_FILEs/31_168_94/page-01.txt'\n",
    "filename = '/media/mayank/FOOTAGE1/AAP_BBMP_FILEs/31_154_1/page-01.txt'\n",
    "filename = '/media/mayank/FOOTAGE1/AAP_BBMP_FILEs/31_154_43/page-01.txt'\n",
    "filename = '/media/mayank/FOOTAGE1/AAP_BBMP_FILEs/31_154_234/page-01.txt'\n",
    "# empty filename = '/media/mayank/FOOTAGE1/AAP_BBMP_FILEs/31_162_179/page-01.txt'\n",
    "with open(filename, 'r') as file_handle:\n",
    "    buffer = file_handle.read()\n",
    "\n",
    "#print(buffer)\n",
    "    \n",
    "row = {}\n",
    "p = re.compile('.*Total Pages \\d+ - Page 1', re.DOTALL)\n",
    "\n",
    "#p = re.compile('Polling Station Details.*', re.DOTALL)\n",
    "#print('Yippie!')\n",
    "print(p)\n",
    "m = p.match(buffer)\n",
    "print(m)\n",
    "if m:\n",
    "    page1 = m.group()\n",
    "    #print(page1.strip())\n",
    "\n",
    "#p = re.compile('^No. Name and Reservation Status of Assembly Constituency : \\d+ -$', re.MULTILINE)\n",
    "#p = re.compile('No. Name and Reservation Status of Assembly Constituency : \\d+')\n",
    "#print(p)\n",
    "#m = p.match(page1)\n",
    "#print(m)\n",
    "\n",
    "lines = page1.split('\\n')\n",
    "for line in lines:\n",
    "    if 'No. Name and Reservation Status of Assembly Constituency : ' in line:\n",
    "        print(line)\n",
    "        m = p.match(page1)\n",
    "        print(m)"
   ]
  },
  {
   "cell_type": "code",
   "execution_count": 251,
   "metadata": {},
   "outputs": [
    {
     "name": "stdout",
     "output_type": "stream",
     "text": [
      "<re.Match object; span=(557, 760), match='No. and name of sections in the part\\n\\n1. 2nd Ma>\n",
      "No. and name of sections in the part\n",
      "\n",
      "1. 2nd Main Road , Srinivasanagar , Sunkad Katte\n",
      "2. 3rd Main Road , Srinivasanagar , Sunkad Katte\n",
      "3. 3rd Cross Srinivas Nagar\n",
      "\n",
      "4. 12th Cross\n",
      "\n",
      "5. 14th Cross\n",
      "\n",
      "999. NRI\n"
     ]
    }
   ],
   "source": [
    "search_pattern = 'No. and name of sections in the part(.|\\n)*999. NRI'\n",
    "match = re.search(search_pattern, page1)\n",
    "print(match)\n",
    "print(match.group())"
   ]
  },
  {
   "cell_type": "code",
   "execution_count": 208,
   "metadata": {},
   "outputs": [
    {
     "name": "stdout",
     "output_type": "stream",
     "text": [
      "<re.Match object; span=(1081, 1104), match='Polling Station Details'>\n",
      "Polling Station Details\n",
      "Type of Polling Station GENERAL\n",
      "\n",
      " \n",
      "\n",
      " \n",
      "\n",
      "Number of Auxilary Polling\n",
      "\n",
      "Stations in this part : 0\n",
      "\n",
      " \n",
      "\n",
      " \n",
      "\n",
      "4. NUMBER OF ELECTORS\n",
      "\n",
      " \n",
      "\n",
      " \n",
      "\n",
      " \n",
      "\n",
      " \n",
      "\n",
      " \n",
      "\n",
      " \n",
      "\n",
      " \n",
      "\n",
      " \n",
      "\n",
      "Starting Ending Net Electors\n",
      "Serial No. Serial No. Male Female Third Gender Total\n",
      "1 1360 711 649 0 1360\n",
      "\n",
      " \n",
      "\n",
      " \n",
      "\n",
      " \n",
      "\n",
      "Signature of Electoral Registration Officer\n",
      "\n",
      "Total Pages 50 - Page 1\n",
      "43\\s*-\\s*(.+)\n"
     ]
    },
    {
     "ename": "AttributeError",
     "evalue": "'NoneType' object has no attribute 'group'",
     "output_type": "error",
     "traceback": [
      "\u001b[0;31m---------------------------------------------------------------------------\u001b[0m",
      "\u001b[0;31mAttributeError\u001b[0m                            Traceback (most recent call last)",
      "\u001b[0;32m<ipython-input-208-49b908dbe0ef>\u001b[0m in \u001b[0;36m<module>\u001b[0;34m\u001b[0m\n\u001b[1;32m     17\u001b[0m     \u001b[0mmatch\u001b[0m \u001b[0;34m=\u001b[0m \u001b[0mre\u001b[0m\u001b[0;34m.\u001b[0m\u001b[0msearch\u001b[0m\u001b[0;34m(\u001b[0m\u001b[0msearch_pattern\u001b[0m\u001b[0;34m,\u001b[0m \u001b[0mpart_buffer\u001b[0m\u001b[0;34m)\u001b[0m\u001b[0;34m\u001b[0m\u001b[0;34m\u001b[0m\u001b[0m\n\u001b[1;32m     18\u001b[0m \u001b[0mrow\u001b[0m\u001b[0;34m[\u001b[0m\u001b[0;34m'Part No'\u001b[0m\u001b[0;34m]\u001b[0m \u001b[0;34m=\u001b[0m \u001b[0mpart_no\u001b[0m\u001b[0;34m\u001b[0m\u001b[0;34m\u001b[0m\u001b[0m\n\u001b[0;32m---> 19\u001b[0;31m \u001b[0mrow\u001b[0m\u001b[0;34m[\u001b[0m\u001b[0;34m'Part Name'\u001b[0m\u001b[0;34m]\u001b[0m \u001b[0;34m=\u001b[0m \u001b[0mpart_name\u001b[0m \u001b[0;34m=\u001b[0m \u001b[0mmatch\u001b[0m\u001b[0;34m.\u001b[0m\u001b[0mgroup\u001b[0m\u001b[0;34m(\u001b[0m\u001b[0;36m1\u001b[0m\u001b[0;34m)\u001b[0m\u001b[0;34m\u001b[0m\u001b[0;34m\u001b[0m\u001b[0m\n\u001b[0m\u001b[1;32m     20\u001b[0m \u001b[0mprint\u001b[0m\u001b[0;34m(\u001b[0m\u001b[0;34mf'Part Name[{part_no, part_name}]'\u001b[0m\u001b[0;34m)\u001b[0m\u001b[0;34m\u001b[0m\u001b[0;34m\u001b[0m\u001b[0m\n",
      "\u001b[0;31mAttributeError\u001b[0m: 'NoneType' object has no attribute 'group'"
     ]
    }
   ],
   "source": [
    "            search_pattern = 'Polling Station Details'\n",
    "            match = re.search(search_pattern, page1)\n",
    "            if not match:\n",
    "                search_pattern = 'Name of Polling Station'\n",
    "                match = re.search(search_pattern, page1)\n",
    "            print(match)\n",
    "            part_buffer = page1[match.start():]\n",
    "            print(part_buffer)\n",
    "            search_pattern = '\\(Male/Female/General\\)\\n*\\d+\\s*-\\s*(.*)'\n",
    "            match = re.search(search_pattern, part_buffer)\n",
    "            if not match:\n",
    "                #search_pattern = 'No. and Name of Polling Station :.*\\n*(\\d+-.*)'\n",
    "                #search_pattern = '(\\d+-\\s*[a-zA-Z\\s]+)'\n",
    "                search_pattern = f'{part_no}\\s*-\\s*(\\d*[a-zA-Z\\s]+)'\n",
    "                search_pattern = f'43\\s*-\\s*(.+)'\n",
    "                print(search_pattern)\n",
    "                match = re.search(search_pattern, part_buffer)\n",
    "            row['Part No'] = part_no\n",
    "            row['Part Name'] = part_name = match.group(1)\n",
    "            print(f'Part Name[{part_no, part_name}]')"
   ]
  },
  {
   "cell_type": "code",
   "execution_count": 177,
   "metadata": {},
   "outputs": [
    {
     "name": "stdout",
     "output_type": "stream",
     "text": [
      "Parliamentary Constituency [23 - Bangalore Rural(GEN)]\n"
     ]
    }
   ],
   "source": [
    "search_pattern = 'Constituency is located\\s*:\\s*(\\d+\\s*-.*\\n*.*)'\n",
    "pc_str = re.search(search_pattern, page1).group(1)\n",
    "row['Parliamentary Constituency'] = pc = re.sub('\\n', '', pc_str)\n",
    "print(f'Parliamentary Constituency [{pc}]')\n"
   ]
  },
  {
   "cell_type": "code",
   "execution_count": 178,
   "metadata": {},
   "outputs": [
    {
     "name": "stdout",
     "output_type": "stream",
     "text": [
      "Assembly Constituency [154-Rajarajeshwarinagar(GEN)]\n"
     ]
    }
   ],
   "source": [
    "search_pattern = 'No. Name and Reservation Status of Assembly Constituency\\s*: (\\d+ -.*\\n*.*)'\n",
    "ac_str = re.search(search_pattern, page1).group(1)\n",
    "ac = row['Assembly Constituency'] = re.sub('\\s', '', ac_str)\n",
    "print(f'Assembly Constituency [{ac}]')\n"
   ]
  },
  {
   "cell_type": "code",
   "execution_count": 249,
   "metadata": {},
   "outputs": [
    {
     "name": "stdout",
     "output_type": "stream",
     "text": [
      "Ward No [73-Kottegepalya]\n"
     ]
    }
   ],
   "source": [
    "search_pattern = 'Ward No(.|\\n)*?:\\s*(\\d+)\\s*-(.*)'\n",
    "match = re.search(search_pattern, page1)\n",
    "ward_no = row['Ward No'] = match.group(2)\n",
    "print(f'Ward No [{ward_no}]')\n"
   ]
  },
  {
   "cell_type": "code",
   "execution_count": 198,
   "metadata": {},
   "outputs": [
    {
     "name": "stdout",
     "output_type": "stream",
     "text": [
      "(3\\s*-\\s*.+)\n",
      "Part Name[3 - Bangalore Rural]\n"
     ]
    }
   ],
   "source": [
    "            search_pattern = '\\(Male/Female/General\\)\\n*(\\d+-.*)'\n",
    "            match = re.search(search_pattern, page1)\n",
    "            if not match:\n",
    "                #search_pattern = 'No. and Name of Polling Station :.*\\n*(\\d+-.*)'\n",
    "                #search_pattern = '(\\d+-\\s*[a-zA-Z\\s]+)'\n",
    "                #print(part_no)\n",
    "                search_pattern = f'{part_no}\\s*-\\s*(\\d*[a-zA-Z\\s]+)'\n",
    "                search_pattern = f'(3\\s*-\\s*.+)'\n",
    "                print(search_pattern)\n",
    "                match = re.search(search_pattern, page1)\n",
    "            #row['Part No'] = str(part_no)\n",
    "            row['Part Name'] = part_name = match.group(1)\n",
    "            print(f'Part Name[{part_name}]')\n"
   ]
  },
  {
   "cell_type": "code",
   "execution_count": 180,
   "metadata": {},
   "outputs": [
    {
     "name": "stdout",
     "output_type": "stream",
     "text": [
      "['1', '1325', '645', '680', '0', '1325']\n",
      "men[645] women[680] third[0] total[1325] TOTAL[1325]\n"
     ]
    }
   ],
   "source": [
    "#'Serial No. Serial No. Male Female Third Gender Total\\n1 786 398 388 0 786'\n",
    "search_pattern = '(\\d+ \\d+ \\d+ \\d+ \\d+ \\d+)'\n",
    "stats = re.search(search_pattern, page1).group(1).split(' ')\n",
    "print(stats)\n",
    "men = row['Male'] = stats[2]\n",
    "women = row['Female'] = stats[3]\n",
    "third = row['Third Gender'] = stats[4]\n",
    "TOTAL = row['Total'] = stats[5]\n",
    "total = int(men) + int(women) + int(third)\n",
    "print(f'men[{men}] women[{women}] third[{third}] total[{total}] TOTAL[{TOTAL}]')"
   ]
  },
  {
   "cell_type": "code",
   "execution_count": 181,
   "metadata": {},
   "outputs": [
    {
     "name": "stdout",
     "output_type": "stream",
     "text": [
      "3-Government Tamil Primary School Room No \n"
     ]
    }
   ],
   "source": [
    "#search_pattern = 'No. and Name of Polling Station :.*\\n*(\\d+-.*)'\n",
    "search_pattern = '(\\d+-\\s*[a-zA-Z\\s]+)'\n",
    "search_pattern = '(3-\\s*[a-zA-Z\\s]+)'\n",
    "row['Part number'] = part_no = re.search(search_pattern, page1).group(1)\n",
    "\n",
    "print(part_no)"
   ]
  },
  {
   "cell_type": "code",
   "execution_count": 106,
   "metadata": {},
   "outputs": [
    {
     "name": "stdout",
     "output_type": "stream",
     "text": [
      "Part No[115-Govt Higher Primary School Room No2 Medahalli]\n"
     ]
    }
   ],
   "source": [
    "if False:\n",
    "    '''\n",
    "    Parliamentary Constituency: 24 - Bangalore North \n",
    "    Assembly Constituency: 151 - K.R. Pura\n",
    "    Ward No: 53-Basavanapura\n",
    "    Part number: 115-Govt Higher Primary School Room No2 Medahalli\n",
    "    Male: 666\n",
    "    Female: 609\n",
    "    Third Gender : 0\n",
    "    Total : 1275\n",
    "    '''\n",
    "    \n",
    "search_pattern = '\\(Male/Female/General\\)\\n*(\\d+-.*)'\n",
    "row['Part No'] = part_no = re.search(search_pattern, page1).group(1)\n",
    "print(f'Part No[{part_no}]')\n",
    "\n"
   ]
  },
  {
   "cell_type": "code",
   "execution_count": 162,
   "metadata": {},
   "outputs": [
    {
     "name": "stdout",
     "output_type": "stream",
     "text": [
      "  Parliamentary Constituency                   Assembly Constituency  \\\n",
      "0  23 - Bangalore Rural(GEN)            154-Rajarajeshwarinagar(GEN)   \n",
      "1  23 - Bangalore Rural(GEN)            154-Rajarajeshwarinagar(GEN)   \n",
      "2  23 - Bangalore Rural(GEN)            154-Rajarajeshwarinagar(GEN)   \n",
      "3  23 - Bangalore Rural(GEN)  154-PartnumberRajarajeshwarinagar(GEN)   \n",
      "4  23 - Bangalore Rural(GEN)            154-Rajarajeshwarinagar(GEN)   \n",
      "\n",
      "        Ward No                                       Part No  Male  Female  \\\n",
      "0  16-Jalahalli             1-Govt Tamil Primary School Room1   680     647   \n",
      "1  16-Jalahalli    2-Government Tamil Primary School Room No2   624     579   \n",
      "2  16-Jalahalli    3-Government Tamil Primary School Room No    645     680   \n",
      "3   46-Jalahall  4-Andra Telugu Higher Primary School Room No   621     618   \n",
      "4  16-Jalahalli   5-Orchids The International School Room No1   565     546   \n",
      "\n",
      "   Third Gender  Total  \n",
      "0             0   1327  \n",
      "1             0   1203  \n",
      "2             0   1325  \n",
      "3             0   1239  \n",
      "4             0   1111  \n"
     ]
    }
   ],
   "source": [
    "import pandas as pd\n",
    "\n",
    "filename = '/tmp/test.json'\n",
    "df = pd.read_json(filename)\n",
    "print(df.head())\n",
    "\n",
    "df.to_csv(filename.replace('.json', '.csv'), index=False)"
   ]
  },
  {
   "cell_type": "code",
   "execution_count": null,
   "metadata": {},
   "outputs": [],
   "source": []
  }
 ],
 "metadata": {
  "kernelspec": {
   "display_name": "base",
   "language": "python",
   "name": "base"
  },
  "language_info": {
   "codemirror_mode": {
    "name": "ipython",
    "version": 3
   },
   "file_extension": ".py",
   "mimetype": "text/x-python",
   "name": "python",
   "nbconvert_exporter": "python",
   "pygments_lexer": "ipython3",
   "version": "3.7.6"
  }
 },
 "nbformat": 4,
 "nbformat_minor": 4
}
